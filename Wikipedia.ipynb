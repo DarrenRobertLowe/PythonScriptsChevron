{
 "cells": [
  {
   "cell_type": "code",
   "execution_count": 33,
   "id": "4d0d9633-9182-4323-b2c8-20542ab6a216",
   "metadata": {},
   "outputs": [
    {
     "name": "stdout",
     "output_type": "stream",
     "text": [
      "Jurassic Park is a 1993 American science fiction action film directed by Steven Spielberg and written by Michael Crichton and David Koepp, based on Crichton's 1990 novel. Starring Sam Neill, Laura Dern, Jeff Goldblum, and Richard Attenborough, the film is set on the fictional island of Isla Nublar near Costa Rica, where wealthy businessman John Hammond (Attenborough) and a team of genetic scientists have created a wildlife park of de-extinct dinosaurs. When industrial sabotage leads to a catastrophic shutdown of the park's power facilities and security precautions, a small group of visitors struggle to survive and escape the now perilous island.\n",
      "Before Crichton's novel was published, four studios put in bids for its film rights. With the backing of Universal Pictures, Spielberg acquired the rights for $1.5 million. Crichton was hired for an additional $500,000 to adapt the novel for the screen. Koepp wrote the final draft, which left out much of the novel's exposition and violence, while making numerous changes to the characters. Filming took place in California and Hawaii from August to November 1992, and post-production lasted until May 1993, supervised by Spielberg in Poland as he filmed Schindler's List. The dinosaurs were created with groundbreaking computer-generated imagery by Industrial Light & Magic, and with life-sized animatronic dinosaurs built by Stan Winston's team. To showcase the film's sound design, which included a mixture of various animal noises for the dinosaur sounds, Spielberg invested in the creation of DTS, a company specializing in digital surround sound formats. The film was backed by an extensive $65 million marketing campaign, which included licensing deals with over 100 companies.\n",
      "Jurassic Park premiered on June 9, 1993, at the Uptown Theater in Washington, D.C., and was released two days later throughout the United States. It was a blockbuster hit and went on to gross over $978 million worldwide in its original theatrical run, surpassing Spielberg's own E.T. the Extra-Terrestrial to become the highest-grossing film of all time until the release of Titanic (1997), surpassing it in early 1998. The film received critical acclaim, with praise to its special effects, sound design, action sequences, John Williams's score, and Spielberg's direction. The film won 20 awards, including three Academy Awards for technical achievements in visual effects and sound design. Following its 20th anniversary re-release in 2013, Jurassic Park became the oldest film in history to surpass $1 billion in ticket sales and the 17th overall.\n",
      "Since its release, many film critics and industry professionals have regarded Jurassic Park as one of the greatest summer blockbusters ever made. Its groundbreaking use of computer-generated imagery is widely seen as a turning point that shaped the visual effects techniques used in modern cinema. In 2018, it was selected for preservation in the United States National Film Registry by the Library of Congress as \"culturally, historically, or aesthetically significant\". The film spawned a multimedia franchise that includes six sequels, video games, theme park attractions, comic books, and various merchandise.\n",
      "['$1.5 million', '$500,000 ', '$65 million', '$978 million', '$1 billion']\n"
     ]
    }
   ],
   "source": [
    "import requests\n",
    "import re\n",
    "\n",
    "headers = {'User-Agent': 'Mozilla/5.0'}\n",
    "response = requests.get(\n",
    "    \"https://en.wikipedia.org/w/api.php\",\n",
    "    params={\n",
    "        \"action\": \"query\",\n",
    "        \"format\": \"json\",\n",
    "        \"titles\": \"Jurassic Park\",\n",
    "        \"prop\": \"extracts\",\n",
    "        \"exintro\": True,\n",
    "        \"explaintext\": True\n",
    "    },\n",
    "    headers={\"User-Agent\": \"Mozilla/5.0\"} # Wikipedia seems to require an explicit user-agent\n",
    ")\n",
    "\n",
    "\n",
    "data = response.json()\n",
    "page = next(iter(data['query']['pages'].values()))\n",
    "extract = page['extract']\n",
    "print(page['extract'])\n",
    "\n",
    "# Regular Expression\n",
    "pattern = r\"\\$\\d{1,3}(?:,\\d{3})*(?:\\.\\d+)?\\s*(?:million|billion)?\"\n",
    "matches = re.findall(pattern, extract)\n",
    "\n",
    "print(matches)"
   ]
  },
  {
   "cell_type": "code",
   "execution_count": null,
   "id": "5798c382-89f4-47f5-bfaf-2bdd9dbbf884",
   "metadata": {},
   "outputs": [],
   "source": []
  }
 ],
 "metadata": {
  "kernelspec": {
   "display_name": "anaconda-2024.02-py310",
   "language": "python",
   "name": "conda-env-anaconda-2024.02-py310-py"
  },
  "language_info": {
   "codemirror_mode": {
    "name": "ipython",
    "version": 3
   },
   "file_extension": ".py",
   "mimetype": "text/x-python",
   "name": "python",
   "nbconvert_exporter": "python",
   "pygments_lexer": "ipython3",
   "version": "3.10.14"
  }
 },
 "nbformat": 4,
 "nbformat_minor": 5
}
