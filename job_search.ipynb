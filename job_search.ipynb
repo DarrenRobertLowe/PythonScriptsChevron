{
 "cells": [
  {
   "cell_type": "code",
   "execution_count": 3,
   "id": "c3f6cf24-2f6c-4bcb-85e4-135b01a61714",
   "metadata": {},
   "outputs": [
    {
     "name": "stdin",
     "output_type": "stream",
     "text": [
      "Enter minimum desired salary:  50000\n"
     ]
    },
    {
     "name": "stdout",
     "output_type": "stream",
     "text": [
      "\n",
      "Jobs you might want to apply for:\n",
      "Software Engineer - €60000 Microsoft (Applied: True)\n",
      "Project Manager - €70000 Orracle (Applied: True)\n",
      "DevOps Engineer - €65000 JetBrains (Applied: True)\n"
     ]
    }
   ],
   "source": [
    "'''\n",
    "JobSearch\n",
    " get_high_salary_jobs() filters jobs based on the salary threshold entered by the user.\n",
    " Jobs that meet the criteria are marked as \"applied\" by setting their applied attribute to True. \n",
    " he final output lists all matching jobs with updated status.\n",
    "'''\n",
    "\n",
    "\n",
    "# Create a list of job dictionaries\n",
    "jobs = [\n",
    "    {\"title\": \"Software Engineer\", \"salary\": 60000, \"company\": \"Microsoft\", \"applied\": \"false\"},\n",
    "    {\"title\": \"Data Analyst\", \"salary\": 45000, \"company\": \"Cisco\", \"applied\": \"false\"},\n",
    "    {\"title\": \"Project Manager\", \"salary\": 70000, \"company\": \"Orracle\", \"applied\": \"false\"},\n",
    "    {\"title\": \"QA Tester\", \"salary\": 40000, \"company\": \"Etsy\", \"applied\": \"false\"},\n",
    "    {\"title\": \"DevOps Engineer\", \"salary\": 65000, \"company\": \"JetBrains\", \"applied\": \"false\"},\n",
    "]\n",
    "\n",
    "# find jobs with salary above user-defined value\n",
    "def get_high_salary_jobs(job_list, value):\n",
    "    \"\"\"\n",
    "    Returns a list of jobs with salary greater than the input value\n",
    "    \"\"\"\n",
    "    high_salary_jobs = []\n",
    "    for job in job_list:\n",
    "        if job[\"salary\"] > value:\n",
    "            high_salary_jobs.append(job)\n",
    "    return high_salary_jobs\n",
    "\n",
    "# get the user input value\n",
    "value = int(input(\"Enter minimum desired salary: \"))\n",
    "matching_jobs = get_high_salary_jobs(jobs, value)\n",
    "\n",
    "# set all jobs to \"applied\" status\n",
    "for job in matching_jobs:\n",
    "    job[\"applied\"] = True\n",
    "\n",
    "# print the result\n",
    "print(\"\\nJobs you might want to apply for:\")\n",
    "for job in matching_jobs:\n",
    "    print(f\"{job['title']} - €{job['salary']} {job['company']} (Applied: {job['applied']})\")"
   ]
  },
  {
   "cell_type": "code",
   "execution_count": null,
   "id": "6388d3c4-506c-4db2-a358-f84b2dfcd119",
   "metadata": {},
   "outputs": [],
   "source": []
  }
 ],
 "metadata": {
  "kernelspec": {
   "display_name": "anaconda-2024.02-py310",
   "language": "python",
   "name": "conda-env-anaconda-2024.02-py310-py"
  },
  "language_info": {
   "codemirror_mode": {
    "name": "ipython",
    "version": 3
   },
   "file_extension": ".py",
   "mimetype": "text/x-python",
   "name": "python",
   "nbconvert_exporter": "python",
   "pygments_lexer": "ipython3",
   "version": "3.10.14"
  }
 },
 "nbformat": 4,
 "nbformat_minor": 5
}
