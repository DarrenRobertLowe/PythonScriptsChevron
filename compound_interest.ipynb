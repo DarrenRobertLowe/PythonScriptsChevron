{
 "cells": [
  {
   "cell_type": "code",
   "execution_count": 4,
   "id": "cefa5670-2604-4714-b8f0-a4e4807aa6fd",
   "metadata": {},
   "outputs": [
    {
     "name": "stdin",
     "output_type": "stream",
     "text": [
      "Enter the principal amount (P):  1000\n",
      "Enter the annual interest rate (r) as a decimal:  0.05\n",
      "Enter the number of times interest is compounded per year (n):  3\n",
      "Enter the number of years (t):  3\n"
     ]
    },
    {
     "name": "stdout",
     "output_type": "stream",
     "text": [
      "Final amount is: €1160.4\n"
     ]
    }
   ],
   "source": [
    "'''\n",
    "Calculate Compound Interest\n",
    " The following script asks the user for multiple inputs in\n",
    " order to set the parameters for the compound interest\n",
    " calculation.\n",
    " It then prints the outcome to the console.\n",
    "'''\n",
    "\n",
    "# Get the user input for the values and convert to appropriate types (float or int)\n",
    "P = float(input(\"Enter the principal amount (P): \"))\n",
    "r = float(input(\"Enter the annual interest rate (r) as a decimal: \"))\n",
    "n = int(input(\"Enter the number of times interest is compounded per year (n): \"))\n",
    "t = float(input(\"Enter the number of years (t): \"))\n",
    "\n",
    "# Perforrm the calculation\n",
    "A = P * (1 + r/n) ** (n*t)\n",
    "A = round(A, 2)\n",
    "\n",
    "# Output the final amount\n",
    "print(\"Final amount is: €\" + str(A))"
   ]
  },
  {
   "cell_type": "code",
   "execution_count": null,
   "id": "c7860fc8-3908-4424-90f7-598c117772cb",
   "metadata": {},
   "outputs": [],
   "source": []
  },
  {
   "cell_type": "code",
   "execution_count": null,
   "id": "4fa7afa7-75ed-46bf-8b78-23f0269dd9a8",
   "metadata": {},
   "outputs": [],
   "source": []
  }
 ],
 "metadata": {
  "kernelspec": {
   "display_name": "anaconda-panel-2023.05-py310",
   "language": "python",
   "name": "conda-env-anaconda-panel-2023.05-py310-py"
  },
  "language_info": {
   "codemirror_mode": {
    "name": "ipython",
    "version": 3
   },
   "file_extension": ".py",
   "mimetype": "text/x-python",
   "name": "python",
   "nbconvert_exporter": "python",
   "pygments_lexer": "ipython3",
   "version": "3.11.5"
  }
 },
 "nbformat": 4,
 "nbformat_minor": 5
}
